{
 "cells": [
  {
   "cell_type": "code",
   "execution_count": 7,
   "id": "ef85cae9",
   "metadata": {},
   "outputs": [
    {
     "name": "stdout",
     "output_type": "stream",
     "text": [
      "Ваше ФИО:Хафизов Артур Айратович\n",
      "Х\n",
      "а\n",
      "ф\n",
      "и\n",
      "з\n",
      "о\n",
      "в\n",
      " \n",
      "А\n",
      "р\n",
      "т\n",
      "у\n",
      "р\n",
      " \n",
      "А\n",
      "й\n",
      "р\n",
      "а\n",
      "т\n",
      "о\n",
      "в\n",
      "и\n",
      "ч\n"
     ]
    }
   ],
   "source": [
    "fio = list(input('Ваше ФИО:'))\n",
    "for i in range(len(fio)):\n",
    "    print(fio[i])   "
   ]
  },
  {
   "cell_type": "code",
   "execution_count": 27,
   "id": "fa6f0def",
   "metadata": {},
   "outputs": [
    {
     "name": "stdout",
     "output_type": "stream",
     "text": [
      "7 долларов в евро это: 5.98\n",
      "1.17 долларов в евро это: 1.0\n",
      "100 долларов в евро это: 85.47\n"
     ]
    }
   ],
   "source": [
    "def dollar_euro(dol):\n",
    "    try:\n",
    "        euro = round(dol/1.17,2)\n",
    "        print(f'{dol} долларов в евро это: {euro}')\n",
    "    except NameError:\n",
    "        print('Вы ввели не число')\n",
    "\n",
    "dollar_euro(7)\n",
    "dollar_euro(1.17)\n",
    "dollar_euro(100)"
   ]
  }
 ],
 "metadata": {
  "kernelspec": {
   "display_name": "Python 3 (ipykernel)",
   "language": "python",
   "name": "python3"
  },
  "language_info": {
   "codemirror_mode": {
    "name": "ipython",
    "version": 3
   },
   "file_extension": ".py",
   "mimetype": "text/x-python",
   "name": "python",
   "nbconvert_exporter": "python",
   "pygments_lexer": "ipython3",
   "version": "3.9.12"
  }
 },
 "nbformat": 4,
 "nbformat_minor": 5
}
