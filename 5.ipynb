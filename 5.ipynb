{
 "cells": [
  {
   "cell_type": "code",
   "execution_count": 190,
   "id": "24fb03ac",
   "metadata": {},
   "outputs": [],
   "source": [
    "import pandas as pd\n",
    "import scipy.stats as stats\n",
    "from scipy.optimize import Bounds\n",
    "from scipy.optimize import minimize\n",
    "from scipy.optimize import curve_fit\n",
    "import matplotlib.pyplot as plt\n",
    "from matplotlib.ticker import PercentFormatter\n",
    "import numpy as np"
   ]
  },
  {
   "cell_type": "code",
   "execution_count": 191,
   "id": "dae9d4bd",
   "metadata": {},
   "outputs": [
    {
     "data": {
      "text/html": [
       "<div>\n",
       "<style scoped>\n",
       "    .dataframe tbody tr th:only-of-type {\n",
       "        vertical-align: middle;\n",
       "    }\n",
       "\n",
       "    .dataframe tbody tr th {\n",
       "        vertical-align: top;\n",
       "    }\n",
       "\n",
       "    .dataframe thead th {\n",
       "        text-align: right;\n",
       "    }\n",
       "</style>\n",
       "<table border=\"1\" class=\"dataframe\">\n",
       "  <thead>\n",
       "    <tr style=\"text-align: right;\">\n",
       "      <th></th>\n",
       "      <th>user_id</th>\n",
       "      <th>date_served</th>\n",
       "      <th>marketing_channel</th>\n",
       "      <th>variant</th>\n",
       "      <th>language_displayed</th>\n",
       "      <th>converted</th>\n",
       "    </tr>\n",
       "  </thead>\n",
       "  <tbody>\n",
       "    <tr>\n",
       "      <th>0</th>\n",
       "      <td>a1000</td>\n",
       "      <td>1/1/18</td>\n",
       "      <td>House Ads</td>\n",
       "      <td>personalization</td>\n",
       "      <td>English</td>\n",
       "      <td>True</td>\n",
       "    </tr>\n",
       "    <tr>\n",
       "      <th>1</th>\n",
       "      <td>a1001</td>\n",
       "      <td>1/1/18</td>\n",
       "      <td>House Ads</td>\n",
       "      <td>personalization</td>\n",
       "      <td>English</td>\n",
       "      <td>True</td>\n",
       "    </tr>\n",
       "    <tr>\n",
       "      <th>2</th>\n",
       "      <td>a1002</td>\n",
       "      <td>1/1/18</td>\n",
       "      <td>House Ads</td>\n",
       "      <td>personalization</td>\n",
       "      <td>English</td>\n",
       "      <td>True</td>\n",
       "    </tr>\n",
       "    <tr>\n",
       "      <th>3</th>\n",
       "      <td>a1003</td>\n",
       "      <td>1/1/18</td>\n",
       "      <td>House Ads</td>\n",
       "      <td>personalization</td>\n",
       "      <td>English</td>\n",
       "      <td>True</td>\n",
       "    </tr>\n",
       "    <tr>\n",
       "      <th>4</th>\n",
       "      <td>a1004</td>\n",
       "      <td>1/1/18</td>\n",
       "      <td>House Ads</td>\n",
       "      <td>personalization</td>\n",
       "      <td>English</td>\n",
       "      <td>True</td>\n",
       "    </tr>\n",
       "  </tbody>\n",
       "</table>\n",
       "</div>"
      ],
      "text/plain": [
       "  user_id date_served marketing_channel          variant language_displayed  \\\n",
       "0   a1000      1/1/18         House Ads  personalization            English   \n",
       "1   a1001      1/1/18         House Ads  personalization            English   \n",
       "2   a1002      1/1/18         House Ads  personalization            English   \n",
       "3   a1003      1/1/18         House Ads  personalization            English   \n",
       "4   a1004      1/1/18         House Ads  personalization            English   \n",
       "\n",
       "  converted  \n",
       "0      True  \n",
       "1      True  \n",
       "2      True  \n",
       "3      True  \n",
       "4      True  "
      ]
     },
     "execution_count": 191,
     "metadata": {},
     "output_type": "execute_result"
    }
   ],
   "source": [
    "market_camp = pd.read_csv(\"marketing_campaign.csv\", header=0)\n",
    "market_camp.head()"
   ]
  },
  {
   "cell_type": "code",
   "execution_count": 192,
   "id": "463e72ee",
   "metadata": {},
   "outputs": [
    {
     "data": {
      "text/plain": [
       "array(['personalization', 'control'], dtype=object)"
      ]
     },
     "execution_count": 192,
     "metadata": {},
     "output_type": "execute_result"
    }
   ],
   "source": [
    "market_camp[\"variant\"].unique()"
   ]
  },
  {
   "cell_type": "code",
   "execution_count": 193,
   "id": "71c5d80b",
   "metadata": {},
   "outputs": [
    {
     "data": {
      "text/html": [
       "<div>\n",
       "<style scoped>\n",
       "    .dataframe tbody tr th:only-of-type {\n",
       "        vertical-align: middle;\n",
       "    }\n",
       "\n",
       "    .dataframe tbody tr th {\n",
       "        vertical-align: top;\n",
       "    }\n",
       "\n",
       "    .dataframe thead th {\n",
       "        text-align: right;\n",
       "    }\n",
       "</style>\n",
       "<table border=\"1\" class=\"dataframe\">\n",
       "  <thead>\n",
       "    <tr style=\"text-align: right;\">\n",
       "      <th></th>\n",
       "      <th>user_id</th>\n",
       "      <th>date_served</th>\n",
       "      <th>marketing_channel</th>\n",
       "      <th>variant</th>\n",
       "      <th>language_displayed</th>\n",
       "      <th>converted</th>\n",
       "      <th>conv_int</th>\n",
       "    </tr>\n",
       "  </thead>\n",
       "  <tbody>\n",
       "    <tr>\n",
       "      <th>0</th>\n",
       "      <td>a1000</td>\n",
       "      <td>1/1/18</td>\n",
       "      <td>House Ads</td>\n",
       "      <td>personalization</td>\n",
       "      <td>English</td>\n",
       "      <td>True</td>\n",
       "      <td>1</td>\n",
       "    </tr>\n",
       "    <tr>\n",
       "      <th>1</th>\n",
       "      <td>a1001</td>\n",
       "      <td>1/1/18</td>\n",
       "      <td>House Ads</td>\n",
       "      <td>personalization</td>\n",
       "      <td>English</td>\n",
       "      <td>True</td>\n",
       "      <td>1</td>\n",
       "    </tr>\n",
       "    <tr>\n",
       "      <th>2</th>\n",
       "      <td>a1002</td>\n",
       "      <td>1/1/18</td>\n",
       "      <td>House Ads</td>\n",
       "      <td>personalization</td>\n",
       "      <td>English</td>\n",
       "      <td>True</td>\n",
       "      <td>1</td>\n",
       "    </tr>\n",
       "    <tr>\n",
       "      <th>3</th>\n",
       "      <td>a1003</td>\n",
       "      <td>1/1/18</td>\n",
       "      <td>House Ads</td>\n",
       "      <td>personalization</td>\n",
       "      <td>English</td>\n",
       "      <td>True</td>\n",
       "      <td>1</td>\n",
       "    </tr>\n",
       "    <tr>\n",
       "      <th>4</th>\n",
       "      <td>a1004</td>\n",
       "      <td>1/1/18</td>\n",
       "      <td>House Ads</td>\n",
       "      <td>personalization</td>\n",
       "      <td>English</td>\n",
       "      <td>True</td>\n",
       "      <td>1</td>\n",
       "    </tr>\n",
       "    <tr>\n",
       "      <th>...</th>\n",
       "      <td>...</td>\n",
       "      <td>...</td>\n",
       "      <td>...</td>\n",
       "      <td>...</td>\n",
       "      <td>...</td>\n",
       "      <td>...</td>\n",
       "      <td>...</td>\n",
       "    </tr>\n",
       "    <tr>\n",
       "      <th>10032</th>\n",
       "      <td>a11032</td>\n",
       "      <td>1/17/18</td>\n",
       "      <td>Email</td>\n",
       "      <td>control</td>\n",
       "      <td>German</td>\n",
       "      <td>True</td>\n",
       "      <td>1</td>\n",
       "    </tr>\n",
       "    <tr>\n",
       "      <th>10033</th>\n",
       "      <td>a11033</td>\n",
       "      <td>1/17/18</td>\n",
       "      <td>Email</td>\n",
       "      <td>control</td>\n",
       "      <td>German</td>\n",
       "      <td>True</td>\n",
       "      <td>1</td>\n",
       "    </tr>\n",
       "    <tr>\n",
       "      <th>10034</th>\n",
       "      <td>a11034</td>\n",
       "      <td>1/5/18</td>\n",
       "      <td>Instagram</td>\n",
       "      <td>control</td>\n",
       "      <td>German</td>\n",
       "      <td>False</td>\n",
       "      <td>0</td>\n",
       "    </tr>\n",
       "    <tr>\n",
       "      <th>10035</th>\n",
       "      <td>a11035</td>\n",
       "      <td>1/17/18</td>\n",
       "      <td>Email</td>\n",
       "      <td>control</td>\n",
       "      <td>German</td>\n",
       "      <td>True</td>\n",
       "      <td>1</td>\n",
       "    </tr>\n",
       "    <tr>\n",
       "      <th>10036</th>\n",
       "      <td>a11036</td>\n",
       "      <td>1/6/18</td>\n",
       "      <td>Facebook</td>\n",
       "      <td>control</td>\n",
       "      <td>German</td>\n",
       "      <td>False</td>\n",
       "      <td>0</td>\n",
       "    </tr>\n",
       "  </tbody>\n",
       "</table>\n",
       "<p>10037 rows × 7 columns</p>\n",
       "</div>"
      ],
      "text/plain": [
       "      user_id date_served marketing_channel          variant  \\\n",
       "0       a1000      1/1/18         House Ads  personalization   \n",
       "1       a1001      1/1/18         House Ads  personalization   \n",
       "2       a1002      1/1/18         House Ads  personalization   \n",
       "3       a1003      1/1/18         House Ads  personalization   \n",
       "4       a1004      1/1/18         House Ads  personalization   \n",
       "...       ...         ...               ...              ...   \n",
       "10032  a11032     1/17/18             Email          control   \n",
       "10033  a11033     1/17/18             Email          control   \n",
       "10034  a11034      1/5/18         Instagram          control   \n",
       "10035  a11035     1/17/18             Email          control   \n",
       "10036  a11036      1/6/18          Facebook          control   \n",
       "\n",
       "      language_displayed converted  conv_int  \n",
       "0                English      True         1  \n",
       "1                English      True         1  \n",
       "2                English      True         1  \n",
       "3                English      True         1  \n",
       "4                English      True         1  \n",
       "...                  ...       ...       ...  \n",
       "10032             German      True         1  \n",
       "10033             German      True         1  \n",
       "10034             German     False         0  \n",
       "10035             German      True         1  \n",
       "10036             German     False         0  \n",
       "\n",
       "[10037 rows x 7 columns]"
      ]
     },
     "execution_count": 193,
     "metadata": {},
     "output_type": "execute_result"
    }
   ],
   "source": [
    "market_camp[\"conv_int\"] = market_camp[\"converted\"].apply(lambda x: 1 if x ==True else 0)\n",
    "market_camp"
   ]
  },
  {
   "cell_type": "code",
   "execution_count": 194,
   "id": "e3e38c25",
   "metadata": {},
   "outputs": [
    {
     "data": {
      "text/html": [
       "<div>\n",
       "<style scoped>\n",
       "    .dataframe tbody tr th:only-of-type {\n",
       "        vertical-align: middle;\n",
       "    }\n",
       "\n",
       "    .dataframe tbody tr th {\n",
       "        vertical-align: top;\n",
       "    }\n",
       "\n",
       "    .dataframe thead th {\n",
       "        text-align: right;\n",
       "    }\n",
       "</style>\n",
       "<table border=\"1\" class=\"dataframe\">\n",
       "  <thead>\n",
       "    <tr style=\"text-align: right;\">\n",
       "      <th>converted</th>\n",
       "      <th>False</th>\n",
       "      <th>True</th>\n",
       "    </tr>\n",
       "    <tr>\n",
       "      <th>variant</th>\n",
       "      <th></th>\n",
       "      <th></th>\n",
       "    </tr>\n",
       "  </thead>\n",
       "  <tbody>\n",
       "    <tr>\n",
       "      <th>control</th>\n",
       "      <td>4705</td>\n",
       "      <td>371</td>\n",
       "    </tr>\n",
       "    <tr>\n",
       "      <th>personalization</th>\n",
       "      <td>4241</td>\n",
       "      <td>705</td>\n",
       "    </tr>\n",
       "  </tbody>\n",
       "</table>\n",
       "</div>"
      ],
      "text/plain": [
       "converted        False  True\n",
       "variant                     \n",
       "control           4705   371\n",
       "personalization   4241   705"
      ]
     },
     "execution_count": 194,
     "metadata": {},
     "output_type": "execute_result"
    }
   ],
   "source": [
    "df1 =pd.pivot_table(market_camp, index =\"variant\",columns=\"converted\", values = \"conv_int\", aggfunc =\"count\")\n",
    "df1"
   ]
  },
  {
   "cell_type": "markdown",
   "id": "a3050a7e",
   "metadata": {},
   "source": [
    "# Расчет значимости"
   ]
  },
  {
   "cell_type": "code",
   "execution_count": 195,
   "id": "2b60f895",
   "metadata": {},
   "outputs": [
    {
     "name": "stdout",
     "output_type": "stream",
     "text": [
      "chisq=126.07767827548582, pvalue=2.9568009705199523e-29\n"
     ]
    }
   ],
   "source": [
    "result = stats.chi2_contingency(df1, correction=False)\n",
    "chisq, pvalue = result [:2]\n",
    "\n",
    "print(f\"{chisq=}, {pvalue=}\")"
   ]
  },
  {
   "cell_type": "markdown",
   "id": "bca06eaa",
   "metadata": {},
   "source": [
    "### personalization имеет большую значимость, чем  control"
   ]
  },
  {
   "cell_type": "markdown",
   "id": "3a1916f6",
   "metadata": {},
   "source": [
    "# Оптимизация"
   ]
  },
  {
   "cell_type": "code",
   "execution_count": 196,
   "id": "3985202e",
   "metadata": {},
   "outputs": [],
   "source": [
    "def value(x):\n",
    "    return -45*x[0]-80*x[1]"
   ]
  },
  {
   "cell_type": "code",
   "execution_count": 197,
   "id": "77d05483",
   "metadata": {},
   "outputs": [],
   "source": [
    "neq_cons ={\"type\" : \"ineq\",\n",
    "           \"fun\" : lambda x : np.array([400 - 5*x[0] - 20*x[1],\n",
    "                                        450 - 10*x[0] - 15*x[1]])\n",
    "          }"
   ]
  },
  {
   "cell_type": "code",
   "execution_count": 198,
   "id": "4ee9804c",
   "metadata": {},
   "outputs": [
    {
     "data": {
      "text/plain": [
       "-1250"
      ]
     },
     "execution_count": 198,
     "metadata": {},
     "output_type": "execute_result"
    }
   ],
   "source": [
    "x=[10,10]\n",
    "value(x)"
   ]
  },
  {
   "cell_type": "code",
   "execution_count": 199,
   "id": "e1b11e1a",
   "metadata": {},
   "outputs": [],
   "source": [
    "bnds = Bounds([0,0],[np.inf, np.inf])"
   ]
  },
  {
   "cell_type": "code",
   "execution_count": 200,
   "id": "1c759fbc",
   "metadata": {},
   "outputs": [
    {
     "name": "stdout",
     "output_type": "stream",
     "text": [
      "[24. 14.]\n"
     ]
    }
   ],
   "source": [
    "x0 = np.array([15,15])\n",
    "res = minimize(value, x0, method=\"SLSQP\", constraints=neq_cons, bounds=bnds)\n",
    "print (res.x)"
   ]
  },
  {
   "cell_type": "code",
   "execution_count": 201,
   "id": "d83941b8",
   "metadata": {},
   "outputs": [
    {
     "name": "stdout",
     "output_type": "stream",
     "text": [
      "Расход материала : 400 красного дерева\n",
      "Трудозтраты : 450 чел.*часов\n",
      "Максимальная прибыль: 2200 долларов\n"
     ]
    }
   ],
   "source": [
    "print(\"Расход материала :\", 5*24 + 20*14, \"красного дерева\")\n",
    "print(\"Трудозтраты :\", 10*24 + 15*14, \"чел.*часов\")\n",
    "print(\"Максимальная прибыль:\", -1*value([24,14]), \"долларов\")"
   ]
  },
  {
   "cell_type": "markdown",
   "id": "cf7ca952",
   "metadata": {},
   "source": [
    "# Апроксимация"
   ]
  },
  {
   "cell_type": "code",
   "execution_count": 202,
   "id": "02876352",
   "metadata": {},
   "outputs": [
    {
     "data": {
      "text/html": [
       "<div>\n",
       "<style scoped>\n",
       "    .dataframe tbody tr th:only-of-type {\n",
       "        vertical-align: middle;\n",
       "    }\n",
       "\n",
       "    .dataframe tbody tr th {\n",
       "        vertical-align: top;\n",
       "    }\n",
       "\n",
       "    .dataframe thead th {\n",
       "        text-align: right;\n",
       "    }\n",
       "</style>\n",
       "<table border=\"1\" class=\"dataframe\">\n",
       "  <thead>\n",
       "    <tr style=\"text-align: right;\">\n",
       "      <th></th>\n",
       "      <th>day</th>\n",
       "      <th>profit</th>\n",
       "    </tr>\n",
       "  </thead>\n",
       "  <tbody>\n",
       "    <tr>\n",
       "      <th>0</th>\n",
       "      <td>1</td>\n",
       "      <td>0.4</td>\n",
       "    </tr>\n",
       "    <tr>\n",
       "      <th>1</th>\n",
       "      <td>3</td>\n",
       "      <td>0.6</td>\n",
       "    </tr>\n",
       "    <tr>\n",
       "      <th>2</th>\n",
       "      <td>7</td>\n",
       "      <td>0.8</td>\n",
       "    </tr>\n",
       "    <tr>\n",
       "      <th>3</th>\n",
       "      <td>14</td>\n",
       "      <td>1.1</td>\n",
       "    </tr>\n",
       "    <tr>\n",
       "      <th>4</th>\n",
       "      <td>21</td>\n",
       "      <td>1.3</td>\n",
       "    </tr>\n",
       "    <tr>\n",
       "      <th>5</th>\n",
       "      <td>30</td>\n",
       "      <td>1.4</td>\n",
       "    </tr>\n",
       "  </tbody>\n",
       "</table>\n",
       "</div>"
      ],
      "text/plain": [
       "   day  profit\n",
       "0    1     0.4\n",
       "1    3     0.6\n",
       "2    7     0.8\n",
       "3   14     1.1\n",
       "4   21     1.3\n",
       "5   30     1.4"
      ]
     },
     "execution_count": 202,
     "metadata": {},
     "output_type": "execute_result"
    }
   ],
   "source": [
    "df = pd.DataFrame({\"day\" : [1,3,7,14,21,30],\n",
    "                  \"profit\" : [0.4,0.6,0.8,1.1,1.3,1.4]})\n",
    "df"
   ]
  },
  {
   "cell_type": "code",
   "execution_count": 203,
   "id": "e879bdf0",
   "metadata": {},
   "outputs": [
    {
     "data": {
      "image/png": "[encoded data removed]",
      "text/plain": [
       "<Figure size 720x540 with 1 Axes>"
      ]
     },
     "metadata": {},
     "output_type": "display_data"
    }
   ],
   "source": [
    "plt.figure(num=None, figsize=(8,6), dpi=90, facecolor=\"w\", edgecolor=\"k\")\n",
    "plt.scatter(df[\"day\"],df[\"profit\"], label='Data profit')\n",
    "plt.legend()\n",
    "plt.show()"
   ]
  },
  {
   "cell_type": "code",
   "execution_count": 204,
   "id": "0c3e9947",
   "metadata": {},
   "outputs": [],
   "source": [
    "def degree_f(x,a,b):\n",
    "    return a*b**x\n",
    "\n",
    "def ln_f(x,a,b):\n",
    "    return a*np.log(x)+b"
   ]
  },
  {
   "cell_type": "code",
   "execution_count": 205,
   "id": "25f4cc06",
   "metadata": {},
   "outputs": [
    {
     "name": "stdout",
     "output_type": "stream",
     "text": [
      "[0.60035711 1.03160017]\n"
     ]
    }
   ],
   "source": [
    "degree_popt,degree_pcov = curve_fit(degree_f, df[\"day\"], df[\"profit\"])\n",
    "print(degree_popt)"
   ]
  },
  {
   "cell_type": "code",
   "execution_count": 206,
   "id": "44661f28",
   "metadata": {},
   "outputs": [
    {
     "name": "stdout",
     "output_type": "stream",
     "text": [
      "[0.3042427  0.31829153]\n"
     ]
    }
   ],
   "source": [
    "ln_popt,ln_pcov = curve_fit(ln_f, df[\"day\"], df[\"profit\"])\n",
    "print(ln_popt)"
   ]
  },
  {
   "cell_type": "code",
   "execution_count": 207,
   "id": "6660a7ad",
   "metadata": {},
   "outputs": [],
   "source": [
    "degree_y_projection = degree_f(np.arange(0,100), *degree_popt)\n",
    "ln_y_projection = ln_f(np.arange(0.1,100), *ln_popt)"
   ]
  },
  {
   "cell_type": "code",
   "execution_count": 208,
   "id": "dd41c4d7",
   "metadata": {},
   "outputs": [
    {
     "data": {
      "image/png": "[encoded data removed]",
      "text/plain": [
       "<Figure size 720x540 with 1 Axes>"
      ]
     },
     "metadata": {},
     "output_type": "display_data"
    }
   ],
   "source": [
    "plt.figure(num=None, figsize=(8,6), dpi=90, facecolor=\"w\", edgecolor=\"k\")\n",
    "plt.scatter(df[\"day\"],df[\"profit\"], label='Data profit')\n",
    "plt.plot(degree_y_projection, label='Degree graph')\n",
    "plt.plot(ln_y_projection, label='Ln graph')\n",
    "plt.legend()\n",
    "plt.show()"
   ]
  },
  {
   "cell_type": "code",
   "execution_count": 209,
   "id": "635ce798",
   "metadata": {},
   "outputs": [
    {
     "data": {
      "text/plain": [
       "[0.6193285013669545,\n",
       " 0.659088716032839,\n",
       " 0.7464307044090908,\n",
       " 0.9280456295448732,\n",
       " 1.153849493904676,\n",
       " 1.5266933282102846]"
      ]
     },
     "execution_count": 209,
     "metadata": {},
     "output_type": "execute_result"
    }
   ],
   "source": [
    "degree_pred = [degree_y_projection[i] for i in list(df[\"day\"])] \n",
    "degree_pred"
   ]
  },
  {
   "cell_type": "code",
   "execution_count": 210,
   "id": "9460941a",
   "metadata": {},
   "outputs": [
    {
     "data": {
      "text/plain": [
       "[0.3472889597284009,\n",
       " 0.6625123615715319,\n",
       " 0.9146360538199171,\n",
       " 1.1233708862478993,\n",
       " 1.246010582186312,\n",
       " 1.354093448104905]"
      ]
     },
     "execution_count": 210,
     "metadata": {},
     "output_type": "execute_result"
    }
   ],
   "source": [
    "ln_pred = [ln_y_projection[i] for i in list(df[\"day\"])] \n",
    "ln_pred"
   ]
  },
  {
   "cell_type": "code",
   "execution_count": 211,
   "id": "54d6eb2d",
   "metadata": {},
   "outputs": [
    {
     "data": {
      "text/plain": [
       "1.687325756038148"
      ]
     },
     "execution_count": 211,
     "metadata": {},
     "output_type": "execute_result"
    }
   ],
   "source": [
    "ln_f(90, *ln_popt)"
   ]
  },
  {
   "cell_type": "code",
   "execution_count": null,
   "id": "d14dc89a",
   "metadata": {},
   "outputs": [],
   "source": []
  },
  {
   "cell_type": "code",
   "execution_count": null,
   "id": "60c6f29f",
   "metadata": {},
   "outputs": [],
   "source": []
  }
 ],
 "metadata": {
  "kernelspec": {
   "display_name": "Python 3 (ipykernel)",
   "language": "python",
   "name": "python3"
  },
  "language_info": {
   "codemirror_mode": {
    "name": "ipython",
    "version": 3
   },
   "file_extension": ".py",
   "mimetype": "text/x-python",
   "name": "python",
   "nbconvert_exporter": "python",
   "pygments_lexer": "ipython3",
   "version": "3.9.12"
  }
 },
 "nbformat": 4,
 "nbformat_minor": 5
}
